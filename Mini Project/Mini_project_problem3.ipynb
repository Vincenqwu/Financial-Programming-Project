{
  "nbformat": 4,
  "nbformat_minor": 0,
  "metadata": {
    "colab": {
      "name": "Mini project problem3.ipynb",
      "provenance": []
    },
    "kernelspec": {
      "name": "python3",
      "display_name": "Python 3"
    }
  },
  "cells": [
    {
      "cell_type": "code",
      "metadata": {
        "id": "NW8JpHZ0ibEx"
      },
      "source": [
        "import numpy as np\n",
        "import pandas as pd\n",
        "import copy\n",
        "import matplotlib.pyplot as plt\n",
        "import time"
      ],
      "execution_count": 1,
      "outputs": []
    },
    {
      "cell_type": "code",
      "metadata": {
        "id": "0M79p1CBih94"
      },
      "source": [
        "from sklearn.preprocessing import StandardScaler\n",
        "from sklearn.model_selection import train_test_split\n",
        "from sklearn.neighbors import NearestNeighbors\n",
        "from sklearn import neighbors\n",
        "from sklearn import svm\n",
        "from sklearn.model_selection import StratifiedKFold"
      ],
      "execution_count": 2,
      "outputs": []
    },
    {
      "cell_type": "code",
      "metadata": {
        "colab": {
          "base_uri": "https://localhost:8080/"
        },
        "id": "pXWpIX2cinsv",
        "outputId": "282b2f3d-00da-4161-f8a2-c6ca781ca766"
      },
      "source": [
        "colab=1\n",
        "import os\n",
        "\n",
        "if colab:\n",
        "  from google.colab import drive\n",
        "  drive.mount('/content/drive', force_remount=True)\n",
        "  working_dir='/content/drive/My Drive/Mini project'\n",
        "  os.chdir(working_dir)"
      ],
      "execution_count": 3,
      "outputs": [
        {
          "output_type": "stream",
          "text": [
            "Mounted at /content/drive\n"
          ],
          "name": "stdout"
        }
      ]
    },
    {
      "cell_type": "code",
      "metadata": {
        "colab": {
          "base_uri": "https://localhost:8080/"
        },
        "id": "Fcg8Cth5ip-J",
        "outputId": "5293ea78-7a39-474b-cd22-426510de515b"
      },
      "source": [
        "!ls \"/content/drive/My Drive/Mini project\""
      ],
      "execution_count": 4,
      "outputs": [
        {
          "output_type": "stream",
          "text": [
            " credit_data_sim.csv\t  credit_risk_small_data_0.02.csv   NBOption.csv\n",
            " credit_data_sim.gsheet  'Mini project problem3.ipynb'\n"
          ],
          "name": "stdout"
        }
      ]
    },
    {
      "cell_type": "code",
      "metadata": {
        "id": "61Y4NbUMir4M"
      },
      "source": [
        "filename=['credit_data_sim.csv', 'credit_risk_small_data_0.02', 'NBOption.csv']\n",
        "credit_sim_data = pd.read_csv(filename[0], parse_dates=True)\n",
        "credit_risk_small_data = pd.read_csv(filename[0], parse_dates=True)\n",
        "NBoption = pd.read_csv(filename[2], parse_dates=True)\n",
        "\n",
        "credit_sim_data_df = credit_sim_data.copy()\n",
        "credit_risk_small_data_df = credit_risk_small_data.copy()\n",
        "NBoption_df = NBoption.copy()\n"
      ],
      "execution_count": 5,
      "outputs": []
    },
    {
      "cell_type": "markdown",
      "metadata": {
        "id": "cTcM7jnUi2ro"
      },
      "source": [
        "Credit Risk Analytics (III)"
      ]
    },
    {
      "cell_type": "code",
      "metadata": {
        "id": "wbX5YZXBe-a1"
      },
      "source": [
        "def select_c_function(i):\n",
        "\t# 将含有参数的模型实例化\n",
        "    svm_model = SVC(kernel='rbf',C=i)\n",
        "    # 对模型进行K折交叉验证，注意scoring可以根据需要改变（其他选择查看API）\n",
        "    recall_score = cross_val_score(svm_model, x_train, y_train.values.ravel(), scoring='recall', cv=10)\n",
        "    return recall_score.mean()  # 返回K次交叉验证评分的均值\n",
        "\n",
        "c_range = []  # 此处填写参数C的取值范围\n",
        "for i in c_range:\n",
        "    avg_score = select_c_function(i)\n",
        "    print('当C值为{}时，K折交叉验证的平均分是{}'.format(i, avg_score))\n"
      ],
      "execution_count": 6,
      "outputs": []
    },
    {
      "cell_type": "code",
      "metadata": {
        "id": "CKWkFe8rm3iP"
      },
      "source": [
        "credit_sim_data_df.dropna(axis = 0, inplace=True)"
      ],
      "execution_count": 11,
      "outputs": []
    },
    {
      "cell_type": "code",
      "metadata": {
        "id": "JLhOFjTMiwzH"
      },
      "source": [
        "Label = credit_sim_data_df['Credit status'].values\n",
        "Features = credit_sim_data_df.copy()\n",
        "Features.drop(columns = ['Credit status'], inplace =True)\n",
        "Features = Features.values\n",
        "skf = StratifiedKFold(n_splits=10, shuffle=True)\n"
      ],
      "execution_count": 12,
      "outputs": []
    },
    {
      "cell_type": "code",
      "metadata": {
        "id": "ckxxs8V1njsg",
        "colab": {
          "base_uri": "https://localhost:8080/",
          "height": 370
        },
        "outputId": "8555b762-a98f-4f88-ef02-b9f68582d63f"
      },
      "source": [
        "train = {}\n",
        "test = {}\n",
        "i=0\n",
        "for train_idx, test_idx in skf.split(Features, Label):\n",
        "  i = i+1\n",
        "  train[i] = train_idx\n",
        "  test[i] = test_idx"
      ],
      "execution_count": 10,
      "outputs": [
        {
          "output_type": "error",
          "ename": "ValueError",
          "evalue": "ignored",
          "traceback": [
            "\u001b[0;31m---------------------------------------------------------------------------\u001b[0m",
            "\u001b[0;31mValueError\u001b[0m                                Traceback (most recent call last)",
            "\u001b[0;32m<ipython-input-10-f6ac6e2ced19>\u001b[0m in \u001b[0;36m<module>\u001b[0;34m()\u001b[0m\n\u001b[1;32m      2\u001b[0m \u001b[0mtest\u001b[0m \u001b[0;34m=\u001b[0m \u001b[0;34m{\u001b[0m\u001b[0;34m}\u001b[0m\u001b[0;34m\u001b[0m\u001b[0;34m\u001b[0m\u001b[0m\n\u001b[1;32m      3\u001b[0m \u001b[0mi\u001b[0m\u001b[0;34m=\u001b[0m\u001b[0;36m0\u001b[0m\u001b[0;34m\u001b[0m\u001b[0;34m\u001b[0m\u001b[0m\n\u001b[0;32m----> 4\u001b[0;31m \u001b[0;32mfor\u001b[0m \u001b[0mtrain_idx\u001b[0m\u001b[0;34m,\u001b[0m \u001b[0mtest_idx\u001b[0m \u001b[0;32min\u001b[0m \u001b[0mskf\u001b[0m\u001b[0;34m.\u001b[0m\u001b[0msplit\u001b[0m\u001b[0;34m(\u001b[0m\u001b[0mFeatures\u001b[0m\u001b[0;34m,\u001b[0m \u001b[0mLabel\u001b[0m\u001b[0;34m)\u001b[0m\u001b[0;34m:\u001b[0m\u001b[0;34m\u001b[0m\u001b[0;34m\u001b[0m\u001b[0m\n\u001b[0m\u001b[1;32m      5\u001b[0m   \u001b[0mi\u001b[0m \u001b[0;34m=\u001b[0m \u001b[0mi\u001b[0m\u001b[0;34m+\u001b[0m\u001b[0;36m1\u001b[0m\u001b[0;34m\u001b[0m\u001b[0;34m\u001b[0m\u001b[0m\n\u001b[1;32m      6\u001b[0m   \u001b[0mtrain\u001b[0m\u001b[0;34m[\u001b[0m\u001b[0mi\u001b[0m\u001b[0;34m]\u001b[0m \u001b[0;34m=\u001b[0m \u001b[0mtrain_idx\u001b[0m\u001b[0;34m\u001b[0m\u001b[0;34m\u001b[0m\u001b[0m\n",
            "\u001b[0;32m/usr/local/lib/python3.6/dist-packages/sklearn/model_selection/_split.py\u001b[0m in \u001b[0;36msplit\u001b[0;34m(self, X, y, groups)\u001b[0m\n\u001b[1;32m    728\u001b[0m         \u001b[0mto\u001b[0m \u001b[0man\u001b[0m \u001b[0minteger\u001b[0m\u001b[0;34m.\u001b[0m\u001b[0;34m\u001b[0m\u001b[0;34m\u001b[0m\u001b[0m\n\u001b[1;32m    729\u001b[0m         \"\"\"\n\u001b[0;32m--> 730\u001b[0;31m         \u001b[0my\u001b[0m \u001b[0;34m=\u001b[0m \u001b[0mcheck_array\u001b[0m\u001b[0;34m(\u001b[0m\u001b[0my\u001b[0m\u001b[0;34m,\u001b[0m \u001b[0mensure_2d\u001b[0m\u001b[0;34m=\u001b[0m\u001b[0;32mFalse\u001b[0m\u001b[0;34m,\u001b[0m \u001b[0mdtype\u001b[0m\u001b[0;34m=\u001b[0m\u001b[0;32mNone\u001b[0m\u001b[0;34m)\u001b[0m\u001b[0;34m\u001b[0m\u001b[0;34m\u001b[0m\u001b[0m\n\u001b[0m\u001b[1;32m    731\u001b[0m         \u001b[0;32mreturn\u001b[0m \u001b[0msuper\u001b[0m\u001b[0;34m(\u001b[0m\u001b[0;34m)\u001b[0m\u001b[0;34m.\u001b[0m\u001b[0msplit\u001b[0m\u001b[0;34m(\u001b[0m\u001b[0mX\u001b[0m\u001b[0;34m,\u001b[0m \u001b[0my\u001b[0m\u001b[0;34m,\u001b[0m \u001b[0mgroups\u001b[0m\u001b[0;34m)\u001b[0m\u001b[0;34m\u001b[0m\u001b[0;34m\u001b[0m\u001b[0m\n\u001b[1;32m    732\u001b[0m \u001b[0;34m\u001b[0m\u001b[0m\n",
            "\u001b[0;32m/usr/local/lib/python3.6/dist-packages/sklearn/utils/validation.py\u001b[0m in \u001b[0;36mcheck_array\u001b[0;34m(array, accept_sparse, accept_large_sparse, dtype, order, copy, force_all_finite, ensure_2d, allow_nd, ensure_min_samples, ensure_min_features, warn_on_dtype, estimator)\u001b[0m\n\u001b[1;32m    576\u001b[0m         \u001b[0;32mif\u001b[0m \u001b[0mforce_all_finite\u001b[0m\u001b[0;34m:\u001b[0m\u001b[0;34m\u001b[0m\u001b[0;34m\u001b[0m\u001b[0m\n\u001b[1;32m    577\u001b[0m             _assert_all_finite(array,\n\u001b[0;32m--> 578\u001b[0;31m                                allow_nan=force_all_finite == 'allow-nan')\n\u001b[0m\u001b[1;32m    579\u001b[0m \u001b[0;34m\u001b[0m\u001b[0m\n\u001b[1;32m    580\u001b[0m     \u001b[0;32mif\u001b[0m \u001b[0mensure_min_samples\u001b[0m \u001b[0;34m>\u001b[0m \u001b[0;36m0\u001b[0m\u001b[0;34m:\u001b[0m\u001b[0;34m\u001b[0m\u001b[0;34m\u001b[0m\u001b[0m\n",
            "\u001b[0;32m/usr/local/lib/python3.6/dist-packages/sklearn/utils/validation.py\u001b[0m in \u001b[0;36m_assert_all_finite\u001b[0;34m(X, allow_nan, msg_dtype)\u001b[0m\n\u001b[1;32m     58\u001b[0m                     \u001b[0mmsg_err\u001b[0m\u001b[0;34m.\u001b[0m\u001b[0mformat\u001b[0m\u001b[0;34m\u001b[0m\u001b[0;34m\u001b[0m\u001b[0m\n\u001b[1;32m     59\u001b[0m                     (type_err,\n\u001b[0;32m---> 60\u001b[0;31m                      msg_dtype if msg_dtype is not None else X.dtype)\n\u001b[0m\u001b[1;32m     61\u001b[0m             )\n\u001b[1;32m     62\u001b[0m     \u001b[0;31m# for object dtype data, we only check for NaNs (GH-13254)\u001b[0m\u001b[0;34m\u001b[0m\u001b[0;34m\u001b[0m\u001b[0;34m\u001b[0m\u001b[0m\n",
            "\u001b[0;31mValueError\u001b[0m: Input contains NaN, infinity or a value too large for dtype('float64')."
          ]
        }
      ]
    },
    {
      "cell_type": "code",
      "metadata": {
        "id": "wvPqYHBrRdgK"
      },
      "source": [
        "def calculateMSE(X,Y): \n",
        "  return sum([(y-x)**2 for x,y in zip(X,Y)])/len(X)"
      ],
      "execution_count": 8,
      "outputs": []
    },
    {
      "cell_type": "code",
      "metadata": {
        "colab": {
          "base_uri": "https://localhost:8080/"
        },
        "id": "qLPzcMbhRmsm",
        "outputId": "1db1cbca-51f6-4fa6-f438-29154256f29e"
      },
      "source": [
        "mse = []\n",
        "for train_idx, test_idx in skf.split(Features, Label):\n",
        "  clf = svm.SVC(kernel='sigmoid')\n",
        "  clf.fit(Features[train_idx], Label[train_idx])\n",
        "  predict_y = clf.predict(Features[test_idx])\n",
        "  mse.append(calculateMSE(Label[test_idx],predict_y))\n",
        "print(mse)"
      ],
      "execution_count": 16,
      "outputs": [
        {
          "output_type": "stream",
          "text": [
            "[0.0658682634730539, 0.059880239520958084, 0.0658682634730539, 0.04790419161676647, 0.059880239520958084, 0.059880239520958084, 0.029940119760479042, 0.0718562874251497, 0.0718562874251497, 0.04790419161676647]\n"
          ],
          "name": "stdout"
        }
      ]
    },
    {
      "cell_type": "code",
      "metadata": {
        "colab": {
          "base_uri": "https://localhost:8080/"
        },
        "id": "pWRKYirmWgyt",
        "outputId": "48119ffe-d10c-4e88-a910-696c75fd9ac1"
      },
      "source": [
        "print(np.array(mse).mean())"
      ],
      "execution_count": null,
      "outputs": [
        {
          "output_type": "stream",
          "text": [
            "0.0023952095808383233\n"
          ],
          "name": "stdout"
        }
      ]
    },
    {
      "cell_type": "code",
      "metadata": {
        "id": "GM81AsM5fKeM"
      },
      "source": [
        "x_train, x_test, y_train, y_test = train_test_split(Features, Label, test_size=0.2, random_state=33)"
      ],
      "execution_count": 19,
      "outputs": []
    },
    {
      "cell_type": "code",
      "metadata": {
        "id": "dD5hNWCWqPtB"
      },
      "source": [
        "kernel_list=['linear', 'rbf', 'poly', 'sigmoid']\n",
        "predicted_label = {}\n",
        "support_vectors = {}\n",
        "for kernel in kernel_list:\n",
        "  clf = svm.SVC(kernel=kernel, tol=0.0001, gamma=0.5)\n",
        "  clf.fit(x_train, y_train)\n",
        "  predicted_label[kernel]=str(clf.predict(x_test))\n",
        "  support_vectors[kernel]=clf.support_vectors_"
      ],
      "execution_count": null,
      "outputs": []
    },
    {
      "cell_type": "code",
      "metadata": {
        "colab": {
          "base_uri": "https://localhost:8080/"
        },
        "id": "rmyI_y8KhNF6",
        "outputId": "5572af39-b27a-48c2-e3c9-5bfcbb609540"
      },
      "source": [
        "print(\" \\nCheck the predicted labels under different kernels\\n\")\n",
        "print(str(predicted_label))\n",
        "time.sleep(2)\n",
        "print(\" \\nCheck the support vectors under different kernels...\\n\")\n",
        "print(str(support_vectors))\n",
        "time.sleep(2)"
      ],
      "execution_count": null,
      "outputs": [
        {
          "output_type": "stream",
          "text": [
            " \n",
            "Check the predicted labels under different kernels\n",
            "\n",
            "{'linear': '[1. 0. 1. 1. 1. 1. 1. 1. 1. 1. 0. 1. 1. 1. 1. 1. 1. 1. 0. 1. 1. 1. 1. 1.\\n 1. 1. 0. 1. 1. 1. 1. 1. 1. 1. 1. 1. 1. 1. 1. 1. 1. 1. 1. 1. 1. 1. 1. 1.\\n 1. 0. 1. 1. 0. 1. 0. 1. 1. 1. 1. 1. 1. 1. 1. 1. 1. 1. 1. 1. 1. 1. 0. 1.\\n 1. 1. 1. 1. 1. 1. 1. 1. 1. 1. 1. 1. 1. 1. 1. 1. 1. 0. 1. 1. 1. 1. 1. 1.\\n 1. 1. 1. 1. 1. 1. 1. 1. 1. 1. 1. 1. 1. 1. 1. 1. 1. 1. 1. 1. 0. 1. 1. 1.\\n 1. 1. 1. 1. 1. 1. 1. 1. 1. 1. 1. 1. 1. 1. 1. 1. 1. 1. 1. 1. 1. 0. 1. 1.\\n 0. 1. 1. 1. 1. 1. 1. 1. 1. 1. 1. 1. 1. 1. 1. 1. 1. 1. 1. 1. 1. 1. 1. 1.\\n 1. 1. 1. 1. 0. 1. 1. 1. 1. 1. 1. 1. 1. 1. 1. 1. 1. 1. 0. 1. 1. 1. 1. 1.\\n 1. 1. 1. 1. 1. 1. 1. 1. 1. 1. 1. 1. 1. 1. 1. 0. 1. 1. 1. 1. 1. 1. 1. 1.\\n 1. 1. 1. 1. 1. 1. 1. 1. 1. 1. 1. 1. 1. 1. 1. 1. 1. 1. 0. 1. 1. 1. 1. 1.\\n 1. 1. 0. 1. 1. 0. 1. 1. 0. 1. 1. 1. 1. 1. 1. 1. 1. 1. 1. 1. 1. 1. 1. 1.\\n 1. 1. 1. 1. 1. 0. 1. 1. 1. 1. 1. 1. 1. 1. 1. 1. 1. 1. 1. 1. 1. 1. 0. 0.\\n 1. 1. 0. 1. 1. 1. 1. 1. 1. 1. 0. 1. 1. 1. 1. 0. 0. 1. 1. 1. 1. 1. 1. 1.\\n 1. 1. 1. 0. 1. 1. 1. 1. 1. 1. 1. 1. 1. 1. 1. 1. 1. 1. 1. 1. 1. 1.]', 'rbf': '[1. 0. 1. 1. 1. 1. 1. 1. 1. 1. 0. 1. 1. 1. 1. 1. 1. 1. 0. 1. 1. 1. 1. 1.\\n 1. 1. 0. 1. 1. 1. 1. 1. 1. 1. 1. 1. 1. 1. 1. 1. 1. 1. 1. 1. 1. 1. 1. 1.\\n 1. 0. 1. 1. 0. 1. 0. 1. 1. 1. 1. 1. 1. 1. 1. 1. 1. 1. 1. 1. 1. 1. 0. 1.\\n 1. 1. 1. 1. 1. 1. 1. 1. 1. 1. 1. 1. 1. 1. 1. 1. 1. 0. 1. 1. 1. 1. 1. 1.\\n 1. 1. 1. 1. 1. 1. 1. 1. 1. 1. 1. 1. 1. 1. 1. 1. 1. 1. 1. 1. 0. 1. 1. 1.\\n 1. 1. 1. 1. 1. 1. 1. 1. 1. 1. 1. 1. 1. 1. 1. 1. 1. 1. 1. 1. 1. 0. 1. 1.\\n 0. 1. 1. 1. 1. 1. 1. 1. 1. 1. 1. 1. 1. 1. 1. 1. 1. 1. 1. 1. 1. 1. 1. 1.\\n 1. 1. 1. 1. 0. 1. 1. 1. 1. 1. 1. 1. 1. 1. 1. 1. 1. 1. 0. 1. 1. 1. 1. 1.\\n 1. 1. 1. 1. 1. 1. 1. 1. 1. 1. 1. 1. 1. 1. 1. 0. 1. 1. 1. 1. 1. 1. 1. 1.\\n 1. 1. 1. 1. 1. 1. 1. 1. 1. 1. 1. 1. 1. 1. 1. 1. 1. 1. 0. 1. 1. 1. 1. 1.\\n 1. 1. 0. 1. 1. 0. 1. 1. 0. 1. 1. 1. 1. 1. 1. 1. 1. 1. 1. 1. 1. 1. 1. 1.\\n 1. 1. 1. 1. 1. 0. 1. 1. 1. 1. 1. 1. 1. 1. 1. 1. 1. 1. 1. 1. 1. 1. 0. 0.\\n 1. 1. 0. 1. 1. 1. 1. 1. 1. 1. 0. 1. 1. 1. 1. 0. 0. 1. 1. 1. 1. 1. 1. 1.\\n 1. 1. 1. 0. 1. 1. 1. 1. 1. 1. 1. 1. 1. 1. 1. 1. 1. 1. 1. 1. 1. 1.]', 'poly': '[1. 0. 1. 1. 1. 1. 1. 1. 1. 1. 0. 1. 1. 1. 1. 1. 1. 1. 0. 1. 1. 1. 1. 1.\\n 1. 1. 0. 1. 1. 1. 1. 1. 1. 1. 1. 1. 1. 1. 1. 1. 1. 1. 1. 1. 1. 1. 1. 1.\\n 1. 0. 1. 1. 0. 1. 0. 1. 1. 1. 1. 1. 1. 1. 1. 1. 1. 1. 1. 1. 1. 1. 0. 1.\\n 1. 1. 1. 1. 1. 1. 1. 1. 1. 1. 1. 1. 1. 1. 1. 1. 1. 0. 1. 1. 1. 1. 1. 1.\\n 1. 1. 1. 1. 1. 1. 1. 1. 1. 1. 1. 1. 1. 1. 1. 1. 1. 1. 1. 1. 0. 1. 1. 1.\\n 1. 1. 1. 1. 1. 1. 1. 1. 1. 1. 1. 1. 1. 1. 1. 1. 1. 1. 1. 1. 1. 0. 1. 1.\\n 0. 1. 1. 1. 1. 1. 1. 1. 1. 1. 1. 1. 1. 1. 1. 1. 1. 1. 1. 1. 1. 1. 1. 1.\\n 1. 1. 1. 1. 0. 1. 1. 1. 1. 1. 1. 1. 1. 1. 1. 1. 1. 1. 0. 1. 1. 1. 1. 1.\\n 1. 1. 1. 1. 1. 1. 1. 1. 1. 1. 1. 1. 1. 1. 1. 0. 1. 1. 1. 1. 1. 1. 1. 1.\\n 1. 1. 1. 1. 1. 1. 1. 1. 1. 1. 1. 1. 1. 1. 1. 1. 1. 1. 0. 1. 1. 1. 1. 1.\\n 1. 1. 0. 1. 1. 0. 1. 1. 0. 1. 1. 1. 1. 1. 1. 1. 1. 1. 1. 1. 1. 1. 1. 1.\\n 1. 1. 1. 1. 1. 0. 1. 1. 1. 1. 1. 1. 1. 1. 1. 1. 1. 1. 1. 1. 1. 1. 0. 0.\\n 1. 1. 0. 1. 1. 1. 1. 1. 1. 1. 0. 1. 1. 1. 1. 0. 0. 1. 1. 1. 1. 1. 1. 1.\\n 1. 1. 1. 0. 1. 1. 1. 1. 1. 1. 1. 1. 1. 1. 1. 1. 1. 1. 1. 1. 1. 1.]', 'sigmoid': '[1. 1. 1. 1. 1. 1. 1. 1. 1. 1. 1. 1. 1. 1. 1. 1. 1. 1. 1. 1. 1. 1. 1. 1.\\n 1. 1. 1. 1. 1. 1. 1. 1. 1. 1. 1. 1. 1. 1. 1. 1. 1. 1. 1. 1. 1. 1. 1. 1.\\n 1. 1. 1. 1. 1. 1. 1. 1. 1. 1. 1. 1. 1. 1. 1. 1. 1. 1. 1. 1. 1. 1. 1. 1.\\n 1. 1. 1. 1. 1. 1. 1. 1. 1. 1. 1. 1. 1. 1. 1. 1. 1. 1. 1. 1. 1. 1. 1. 1.\\n 1. 1. 1. 1. 1. 1. 1. 1. 1. 1. 1. 1. 1. 1. 1. 1. 1. 1. 1. 1. 1. 1. 1. 1.\\n 1. 1. 1. 1. 1. 1. 1. 1. 1. 1. 1. 1. 1. 1. 1. 1. 1. 1. 1. 1. 1. 1. 1. 1.\\n 1. 1. 1. 1. 1. 1. 1. 1. 1. 1. 1. 1. 1. 1. 1. 1. 1. 1. 1. 1. 1. 1. 1. 1.\\n 1. 1. 1. 1. 1. 1. 1. 1. 1. 1. 1. 1. 1. 1. 1. 1. 1. 1. 1. 1. 1. 1. 1. 1.\\n 1. 1. 1. 1. 1. 1. 1. 1. 1. 1. 1. 1. 1. 1. 1. 1. 1. 1. 1. 1. 1. 1. 1. 1.\\n 1. 1. 1. 1. 1. 1. 1. 1. 1. 1. 1. 1. 1. 1. 1. 1. 1. 1. 1. 1. 1. 1. 1. 1.\\n 1. 1. 1. 1. 1. 1. 1. 1. 1. 1. 1. 1. 1. 1. 1. 1. 1. 1. 1. 1. 1. 1. 1. 1.\\n 1. 1. 1. 1. 1. 1. 1. 1. 1. 1. 1. 1. 1. 1. 1. 1. 1. 1. 1. 1. 1. 1. 1. 1.\\n 1. 1. 1. 1. 1. 1. 1. 1. 1. 1. 1. 1. 1. 1. 1. 1. 1. 1. 1. 1. 1. 1. 1. 1.\\n 1. 1. 1. 1. 1. 1. 1. 1. 1. 1. 1. 1. 1. 1. 1. 1. 1. 1. 1. 1. 1. 1.]'}\n",
            " \n",
            "Check the support vectors under different kernels...\n",
            "\n",
            "{'linear': array([[-1.620e-01, -2.970e-01, -1.700e-02,  5.350e-01,  1.230e-01,\n",
            "         2.000e+00],\n",
            "       [-5.800e-02,  1.700e-02,  2.600e-02,  3.340e-01,  9.900e-02,\n",
            "         4.000e+00],\n",
            "       [-8.660e-01, -7.020e-01, -1.100e-01,  1.109e+00,  3.590e-01,\n",
            "         1.200e+01],\n",
            "       [-9.200e-02, -1.670e-01,  1.200e-02,  4.300e-01,  1.930e-01,\n",
            "         1.000e+01],\n",
            "       [-1.470e-01, -1.070e-01,  5.000e-03,  3.990e-01,  1.700e-01,\n",
            "         9.000e+00],\n",
            "       [ 1.010e-01,  2.030e-01,  5.000e-02,  9.170e-01,  2.000e-01,\n",
            "         3.000e+00],\n",
            "       [ 9.400e-02,  1.520e-01,  4.600e-02,  1.064e+00,  2.690e-01,\n",
            "         3.000e+00],\n",
            "       [ 2.110e-01,  2.290e-01,  6.700e-02,  9.710e-01,  1.870e-01,\n",
            "         1.200e+01],\n",
            "       [-2.800e-02,  1.000e-01,  2.900e-02,  1.000e+00,  3.120e-01,\n",
            "         6.000e+00],\n",
            "       [ 1.650e-01,  3.570e-01,  6.900e-02,  7.800e-01,  2.720e-01,\n",
            "         1.100e+01]]), 'rbf': array([[-0.017, -0.191,  0.022,  0.179,  0.101,  5.   ],\n",
            "       [-2.231, -2.32 , -0.366,  0.26 ,  0.088,  3.   ],\n",
            "       [-0.859, -1.483, -0.104,  0.063,  0.235,  5.   ],\n",
            "       ...,\n",
            "       [ 0.022,  0.334,  0.033,  5.005,  0.397,  1.   ],\n",
            "       [ 0.574,  0.889,  0.132,  5.381,  0.832, 10.   ],\n",
            "       [ 0.201,  0.555,  0.054,  7.695,  0.705,  1.   ]]), 'poly': array([[-0.162, -0.297, -0.017,  0.535,  0.123,  2.   ],\n",
            "       [-0.065, -0.474,  0.018,  0.141,  0.086,  1.   ],\n",
            "       [ 0.388,  0.418,  0.082,  1.098,  0.17 ,  1.   ],\n",
            "       [ 0.211,  0.229,  0.067,  0.971,  0.187, 12.   ]]), 'sigmoid': array([[-0.017, -0.191,  0.022,  0.179,  0.101,  5.   ],\n",
            "       [-0.051, -0.729,  0.031,  0.052,  0.055, 12.   ],\n",
            "       [-2.231, -2.32 , -0.366,  0.26 ,  0.088,  3.   ],\n",
            "       ...,\n",
            "       [ 0.525,  0.718,  0.117,  2.749,  0.516, 12.   ],\n",
            "       [ 0.338,  0.426,  0.072,  2.886,  0.461, 12.   ],\n",
            "       [ 0.401,  0.585,  0.083,  2.457,  0.234, 12.   ]])}\n"
          ],
          "name": "stdout"
        }
      ]
    },
    {
      "cell_type": "code",
      "metadata": {
        "id": "jrP_mus0i03e"
      },
      "source": [
        "from numpy import *\n",
        "def kernelTrans(X, kTup): #通过数据计算转换后的核函数\n",
        "    X = np.mat(X)\n",
        "    m,n = np.shape(X)\n",
        "    K = mat(zeros((m,m)))\n",
        "    if kTup[0]=='linear': #线性核函数\n",
        "        K = X * X.T   \n",
        "    \n",
        "    elif kTup[0]=='rbf':#高斯核\n",
        "        for i in range(m):\n",
        "          for j in range(m):\n",
        "            deltaRow = X[i,:] - X[j,:]\n",
        "            K[i,j] = deltaRow*deltaRow.T\n",
        "        K = exp(K/(-1*kTup[1]**2))    \n",
        " \n",
        "    elif kTup[0] == 'poly':#多项式核\n",
        "        K = X * X.T + kTup[1]\n",
        "        for i in range(m):\n",
        "          for j in range(m):\n",
        "            K[i, j] = K[i, j]**kTup[2]\n",
        "        \n",
        "    elif kTup[0] == 'sigmoid':#Sigmoid核\n",
        "        K = X * X .T\n",
        "        for i in range(m):\n",
        "          for j in range(m):\n",
        "            K[i, j] = tanh(kTup[1]*K[i, j]+kTup[2])\n",
        "        \n",
        "    else: raise NameError('Houston We Have a Problem -- \\\n",
        "    That Kernel is not recognized')\n",
        "    return K\n"
      ],
      "execution_count": 31,
      "outputs": []
    },
    {
      "cell_type": "code",
      "metadata": {
        "id": "Gjzzhy9kn54N"
      },
      "source": [
        "kernel_list=['linear', 'rbf', 'poly', 'sigmoid']\n",
        "eigenvalues = {}\n",
        "i = 0\n",
        "j = 0\n",
        "for kernel in kernel_list:\n",
        "  i = i+1\n",
        "  j = j+1\n",
        "  kTup = [kernel, i, j]\n",
        "  K = kernelTrans(x_train, kTup)\n",
        "  values, vectoe = np.linalg.eig(K)\n",
        "  eigenvalues[kernel] = values"
      ],
      "execution_count": 32,
      "outputs": []
    },
    {
      "cell_type": "code",
      "metadata": {
        "colab": {
          "base_uri": "https://localhost:8080/"
        },
        "id": "-dvT1PwPkDMS",
        "outputId": "6775d7ad-2579-4e14-a5ea-44e5d10ed804"
      },
      "source": [
        "print(eigenvalues)"
      ],
      "execution_count": 35,
      "outputs": [
        {
          "output_type": "stream",
          "text": [
            "{'linear': array([ 1.02038024e+05+0.j,  3.54496716e+04+0.j,  2.78141520e+02+0.j, ...,\n",
            "       -2.45456279e-15+0.j, -4.90899849e-15+0.j,  1.51745904e-15+0.j]), 'rbf': array([2.13347754e+02, 1.75238842e+02, 1.43916209e+02, ...,\n",
            "       1.22578748e-10, 1.24504571e-10, 1.18598781e-10]), 'poly': array([ 3.24550414e+12+0.00000000e+00j,  2.75567738e+09+0.00000000e+00j,\n",
            "        1.12652780e+09+0.00000000e+00j, ...,\n",
            "       -7.17072576e-13-4.20466561e-13j,  9.08001884e-13+9.19440830e-14j,\n",
            "        9.08001884e-13-9.19440830e-14j]), 'sigmoid': array([ 1.33594094e+003+0.j, -7.85302844e+000+0.j,  7.91210473e+000+0.j,\n",
            "       ..., -2.43173880e-125+0.j,  7.30512581e-126+0.j,\n",
            "       -1.11777940e-127+0.j])}\n"
          ],
          "name": "stdout"
        }
      ]
    },
    {
      "cell_type": "code",
      "metadata": {
        "id": "dPzvoyTaV0A6"
      },
      "source": [
        "kTup = ['poly', 1, 3]\n",
        "K = kernelTrans(x_train, kTup)\n",
        "values, vectoe = np.linalg.eig(K)\n",
        "eigenvalues['poly'] = values"
      ],
      "execution_count": null,
      "outputs": []
    }
  ]
}